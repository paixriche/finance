{
 "cells": [
  {
   "cell_type": "code",
   "execution_count": 1,
   "id": "e27fd6d3",
   "metadata": {},
   "outputs": [],
   "source": [
    "url = 'https://www.bolig.ai/no/adresse/klostergata-72d-trondheim-276382866/1841368?lat=63.425008&lng=10.384882&zoom=18'"
   ]
  },
  {
   "cell_type": "code",
   "execution_count": null,
   "id": "34146ca2",
   "metadata": {},
   "outputs": [],
   "source": [
    "dates_class = 'col-lg-2 col-md-2 col-sm-12'\n",
    "prices_class = 'col-lg-2 col-md-2 col-sm-12'"
   ]
  },
  {
   "cell_type": "code",
   "execution_count": null,
   "id": "070faa10",
   "metadata": {},
   "outputs": [],
   "source": [
    "r = requests.get(url)\n",
    "page_body = r.text\n",
    "soup = BeautifulSoup(page_body, 'html.parser')\n",
    "\n",
    "stock_wrappers = soup.find_all('div', class_=wrapper)"
   ]
  }
 ],
 "metadata": {
  "kernelspec": {
   "display_name": "Python 3 (ipykernel)",
   "language": "python",
   "name": "python3"
  },
  "language_info": {
   "codemirror_mode": {
    "name": "ipython",
    "version": 3
   },
   "file_extension": ".py",
   "mimetype": "text/x-python",
   "name": "python",
   "nbconvert_exporter": "python",
   "pygments_lexer": "ipython3",
   "version": "3.8.6"
  }
 },
 "nbformat": 4,
 "nbformat_minor": 5
}
