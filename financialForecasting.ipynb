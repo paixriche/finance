{
 "cells": [
  {
   "cell_type": "markdown",
   "id": "268efd37",
   "metadata": {},
   "source": [
    "# Financial forecasting"
   ]
  },
  {
   "cell_type": "markdown",
   "id": "25a6757e",
   "metadata": {},
   "source": [
    "### Income Statements"
   ]
  },
  {
   "cell_type": "code",
   "execution_count": 6,
   "id": "7cc9a798",
   "metadata": {},
   "outputs": [],
   "source": [
    "#cogs = cost of goods sold\n",
    "def gross_profit(sales, cogs):\n",
    "    return sales-cogs\n",
    "\n",
    "# Analyze the profitability of our core product\n",
    "def gross_profit_margin(sales, cogs):\n",
    "    gp_margin = gross_profit(sales, cogs)/sales\n",
    "    return gp_margin\n",
    "\n",
    "# ope = other operating expenses / if opex is list, use opexAsList.sum()\n",
    "def net_profit(gross_profit, opex):\n",
    "    return gross_profit-opex\n",
    "\n",
    "# Calculate break even point: Total Cost = Total Revenue, Amount of unit needed to be sold in order to just cover our costs\n",
    "def break_even(fixed_cost, sales_price, variable_costs):\n",
    "    return fixed_cost/(sales_price-variable_costs)\n",
    "\n",
    "def break_even_units(fixed_cost, unit_price, variable_cost_unit):\n",
    "    return fixed_cost/(unit_price-variable_cost_unit)"
   ]
  },
  {
   "cell_type": "markdown",
   "id": "874c1de7",
   "metadata": {},
   "source": [
    "##### Calculating sales"
   ]
  },
  {
   "cell_type": "code",
   "execution_count": 7,
   "id": "a6596c0c",
   "metadata": {},
   "outputs": [],
   "source": [
    "# Sales = Income = Revenue = Turnover\n",
    "# sp_unit: Sales price per unit\n",
    "# d_sp: Discounted Sales Price, Credit Sales, Sales mix sp_1 vs sp_2\n",
    "\n",
    "#COGS: fixed_costs (cost independent of units made), variable_cost_per_unit, inv_ob (inventory opening balance), inv_cb\n",
    "def cogs(opening_value_of_stock, closing_value_of_stock, fixed_costs, variable_costs):\n",
    "    opening_value_of_stock-closing_value_of_stock+fixed_costs+variable_costs"
   ]
  },
  {
   "cell_type": "markdown",
   "id": "7b1b962b",
   "metadata": {},
   "source": [
    "### Balance sheet"
   ]
  },
  {
   "cell_type": "code",
   "execution_count": null,
   "id": "d2da2325",
   "metadata": {},
   "outputs": [],
   "source": [
    "# Equity:  Portion of owner's interest in a property or business\n",
    "def equity(assets, liabilities):\n",
    "    return assets-liabilities"
   ]
  }
 ],
 "metadata": {
  "kernelspec": {
   "display_name": "Python 3 (ipykernel)",
   "language": "python",
   "name": "python3"
  },
  "language_info": {
   "codemirror_mode": {
    "name": "ipython",
    "version": 3
   },
   "file_extension": ".py",
   "mimetype": "text/x-python",
   "name": "python",
   "nbconvert_exporter": "python",
   "pygments_lexer": "ipython3",
   "version": "3.8.6"
  }
 },
 "nbformat": 4,
 "nbformat_minor": 5
}
