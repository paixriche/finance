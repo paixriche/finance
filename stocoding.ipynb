{
 "cells": [
  {
   "cell_type": "code",
   "execution_count": 2,
   "id": "1e09b25e",
   "metadata": {},
   "outputs": [],
   "source": [
    "# Import libraries\n",
    "import numpy as np\n",
    "import pandas as pd\n",
    "import matplotlib.pyplot as plt\n",
    "%matplotlib inline\n",
    "#for webscraping\n",
    "import requests\n",
    "from bs4 import BeautifulSoup"
   ]
  },
  {
   "cell_type": "code",
   "execution_count": 3,
   "id": "46c75f35",
   "metadata": {},
   "outputs": [],
   "source": [
    "nordnet_url = \"https://www.nordnet.no\"\n",
    "url = \"https://www.nordnet.no/market/stocks?exchangeCountry=NO\"\n",
    "url2 = \"https://www.nordnet.no/market/stocks?exchangeCountry=NO&page=2\"\n",
    "url3 = \"https://www.nordnet.no/market/stocks?exchangeCountry=NO&page=3\"\n",
    "url4 = \"https://www.nordnet.no/market/stocks?exchangeCountry=NO&page=4\""
   ]
  },
  {
   "cell_type": "code",
   "execution_count": 4,
   "id": "5a76f3d0",
   "metadata": {},
   "outputs": [],
   "source": [
    "def toFloat(a):\n",
    "    return float(a.replace(',', '.'))"
   ]
  },
  {
   "cell_type": "code",
   "execution_count": 29,
   "id": "4856d739",
   "metadata": {},
   "outputs": [],
   "source": [
    "wrapper = 'Flexbox__StyledFlexbox-sc-1ob4g1e-0 dIqGiW Row__StyledRow-sc-1iamenj-0 kvilUc Rows__AlignedRow-sc-1udgki9-0 bRPJha'\n",
    "class_name = 'Link__StyledLink-sc-apj04t-0 hiZTTl NameCell__StyledLink-sc-qgec4s-0 cniqUX'\n",
    "class_price = 'Flexbox__StyledFlexbox-sc-1ob4g1e-0 heoOVq Cell__StyledFlexbox-sc-icfddc-0 czJhEm NumberCell__StyledFlexTableCell-sc-icuiuz-0 hLketY'\n",
    "link_url = \"Link__StyledLink-sc-apj04t-0 hiZTTl NameCell__StyledLink-sc-qgec4s-0 cniqUX\"\n",
    "\n",
    "numbers = \"Typography__Span-sc-10mju41-0 gaHPGY Typography__StyledTypography-sc-10mju41-1 bnnqtQ\""
   ]
  },
  {
   "cell_type": "code",
   "execution_count": 43,
   "id": "0f5ce4e9",
   "metadata": {},
   "outputs": [],
   "source": [
    "#[21] er P/E\n",
    "#[25] er utbytte per aksje\n",
    "#[26] er EPS\n",
    "\n",
    "def numbersForStock(url):\n",
    "    r = requests.get(url)\n",
    "    page_body = r.text\n",
    "    soup = BeautifulSoup(page_body, 'html.parser')\n",
    "\n",
    "    web_stock = soup.find_all('span', class_=numbers)\n",
    "\n",
    "    dividend = web_stock[25].text\n",
    "    eps = web_stock[26].text\n",
    "    \n",
    "    return dividend, eps"
   ]
  },
  {
   "cell_type": "code",
   "execution_count": 44,
   "id": "ee6e4e0d",
   "metadata": {},
   "outputs": [
    {
     "name": "stdout",
     "output_type": "stream",
     "text": [
      "EPS: 16,72\n",
      "Dividend: 9,75\n"
     ]
    }
   ],
   "source": [
    "url = 'https://www.nordnet.no/market/stocks/17534483-dnb-bank-asa?details'\n",
    "dividend, eps = numbersForStock(url)\n",
    "\n",
    "print('EPS: {}\\nDividend: {}'.format(eps, dividend))"
   ]
  },
  {
   "cell_type": "code",
   "execution_count": 6,
   "id": "4f7cb0b2",
   "metadata": {},
   "outputs": [
    {
     "name": "stdout",
     "output_type": "stream",
     "text": [
      "[]\n"
     ]
    }
   ],
   "source": [
    "import re\n",
    "a = 'KeyFigures__Content-sc-1134xf8-5 gFFByN'\n",
    "\n",
    "link_eps = 'Typography__Span-sc-10mju41-0 gaHPGY Typography__StyledTypography-sc-10mju41-1 bnnqtQ'\n",
    "b = 'Typography__Span-sc-10mju41-0 gaHPGY Typography__StyledTypography-sc-10mju41-1 bnnqtQ'\n",
    "c = 'TruncateWithTooltip__StyledDiv-sc-cceovq-0 khkkkl'\n",
    "example_url = 'https://www.nordnet.no/market/stocks/16105420-equinor'\n",
    "\n",
    "r = requests.get(example_url)\n",
    "page_body = r.text\n",
    "soup = BeautifulSoup(page_body, 'html.parser')\n",
    "\n",
    "eps = soup.find_all('div', class_=a, text=re.compile('\\<div\\>(.*?)\\<\\/div\\>'))\n",
    "\n",
    "print(eps)"
   ]
  },
  {
   "cell_type": "code",
   "execution_count": 47,
   "id": "7b97aed6",
   "metadata": {
    "scrolled": true
   },
   "outputs": [
    {
     "name": "stdout",
     "output_type": "stream",
     "text": [
      "https://www.nordnet.no/market/stocks/17350508-salmon-evolution-asa?details\n",
      "https://www.nordnet.no/market/stocks/17636942-hoegh-autoliners-asa?details\n",
      "https://www.nordnet.no/market/stocks/17683928-cool-company?details\n"
     ]
    },
    {
     "ename": "IndexError",
     "evalue": "list index out of range",
     "output_type": "error",
     "traceback": [
      "\u001b[1;31m---------------------------------------------------------------------------\u001b[0m",
      "\u001b[1;31mIndexError\u001b[0m                                Traceback (most recent call last)",
      "\u001b[1;32m~\\AppData\\Local\\Temp/ipykernel_32080/896651866.py\u001b[0m in \u001b[0;36m<module>\u001b[1;34m\u001b[0m\n\u001b[0;32m     26\u001b[0m     \u001b[1;32mreturn\u001b[0m \u001b[0mstocks\u001b[0m\u001b[1;33m\u001b[0m\u001b[1;33m\u001b[0m\u001b[0m\n\u001b[0;32m     27\u001b[0m \u001b[1;33m\u001b[0m\u001b[0m\n\u001b[1;32m---> 28\u001b[1;33m \u001b[0mstocks\u001b[0m \u001b[1;33m=\u001b[0m \u001b[0mstockInfo\u001b[0m\u001b[1;33m(\u001b[0m\u001b[0murl\u001b[0m\u001b[1;33m)\u001b[0m \u001b[1;33m+\u001b[0m \u001b[0mstockInfo\u001b[0m\u001b[1;33m(\u001b[0m\u001b[0murl2\u001b[0m\u001b[1;33m)\u001b[0m \u001b[1;33m+\u001b[0m \u001b[0mstockInfo\u001b[0m\u001b[1;33m(\u001b[0m\u001b[0murl3\u001b[0m\u001b[1;33m)\u001b[0m \u001b[1;33m+\u001b[0m \u001b[0mstockInfo\u001b[0m\u001b[1;33m(\u001b[0m\u001b[0murl4\u001b[0m\u001b[1;33m)\u001b[0m\u001b[1;33m\u001b[0m\u001b[1;33m\u001b[0m\u001b[0m\n\u001b[0m\u001b[0;32m     29\u001b[0m \u001b[1;33m\u001b[0m\u001b[0m\n\u001b[0;32m     30\u001b[0m \u001b[0mstock_info\u001b[0m \u001b[1;33m=\u001b[0m \u001b[0mpd\u001b[0m\u001b[1;33m.\u001b[0m\u001b[0mDataFrame\u001b[0m\u001b[1;33m.\u001b[0m\u001b[0mfrom_dict\u001b[0m\u001b[1;33m(\u001b[0m\u001b[0mstocks\u001b[0m\u001b[1;33m)\u001b[0m\u001b[1;33m\u001b[0m\u001b[1;33m\u001b[0m\u001b[0m\n",
      "\u001b[1;32m~\\AppData\\Local\\Temp/ipykernel_32080/896651866.py\u001b[0m in \u001b[0;36mstockInfo\u001b[1;34m(url)\u001b[0m\n\u001b[0;32m     16\u001b[0m         \u001b[0murl_stock\u001b[0m \u001b[1;33m=\u001b[0m \u001b[0mnordnet_url\u001b[0m \u001b[1;33m+\u001b[0m \u001b[0ms\u001b[0m\u001b[1;33m.\u001b[0m\u001b[0mfind\u001b[0m\u001b[1;33m(\u001b[0m\u001b[1;34m'a'\u001b[0m\u001b[1;33m,\u001b[0m \u001b[0mclass_\u001b[0m\u001b[1;33m=\u001b[0m\u001b[0mlink_url\u001b[0m\u001b[1;33m)\u001b[0m\u001b[1;33m[\u001b[0m\u001b[1;34m'href'\u001b[0m\u001b[1;33m]\u001b[0m \u001b[1;33m+\u001b[0m \u001b[1;34m'?details'\u001b[0m\u001b[1;33m\u001b[0m\u001b[1;33m\u001b[0m\u001b[0m\n\u001b[0;32m     17\u001b[0m         \u001b[0mprint\u001b[0m\u001b[1;33m(\u001b[0m\u001b[0murl_stock\u001b[0m\u001b[1;33m)\u001b[0m\u001b[1;33m\u001b[0m\u001b[1;33m\u001b[0m\u001b[0m\n\u001b[1;32m---> 18\u001b[1;33m         \u001b[0mdividend\u001b[0m\u001b[1;33m,\u001b[0m \u001b[0meps\u001b[0m \u001b[1;33m=\u001b[0m \u001b[0mnumbersForStock\u001b[0m\u001b[1;33m(\u001b[0m\u001b[0murl_stock\u001b[0m\u001b[1;33m)\u001b[0m\u001b[1;33m\u001b[0m\u001b[1;33m\u001b[0m\u001b[0m\n\u001b[0m\u001b[0;32m     19\u001b[0m \u001b[1;33m\u001b[0m\u001b[0m\n\u001b[0;32m     20\u001b[0m         stocks.append({'name': name, \n",
      "\u001b[1;32m~\\AppData\\Local\\Temp/ipykernel_32080/3561709178.py\u001b[0m in \u001b[0;36mnumbersForStock\u001b[1;34m(url)\u001b[0m\n\u001b[0;32m     13\u001b[0m     \u001b[0mweb_stock\u001b[0m \u001b[1;33m=\u001b[0m \u001b[0msoup\u001b[0m\u001b[1;33m.\u001b[0m\u001b[0mfind_all\u001b[0m\u001b[1;33m(\u001b[0m\u001b[1;34m'span'\u001b[0m\u001b[1;33m,\u001b[0m \u001b[0mclass_\u001b[0m\u001b[1;33m=\u001b[0m\u001b[0mnumbers\u001b[0m\u001b[1;33m)\u001b[0m\u001b[1;33m\u001b[0m\u001b[1;33m\u001b[0m\u001b[0m\n\u001b[0;32m     14\u001b[0m \u001b[1;33m\u001b[0m\u001b[0m\n\u001b[1;32m---> 15\u001b[1;33m     \u001b[0mdividend\u001b[0m \u001b[1;33m=\u001b[0m \u001b[0mweb_stock\u001b[0m\u001b[1;33m[\u001b[0m\u001b[1;36m25\u001b[0m\u001b[1;33m]\u001b[0m\u001b[1;33m.\u001b[0m\u001b[0mtext\u001b[0m\u001b[1;33m\u001b[0m\u001b[1;33m\u001b[0m\u001b[0m\n\u001b[0m\u001b[0;32m     16\u001b[0m     \u001b[0meps\u001b[0m \u001b[1;33m=\u001b[0m \u001b[0mweb_stock\u001b[0m\u001b[1;33m[\u001b[0m\u001b[1;36m26\u001b[0m\u001b[1;33m]\u001b[0m\u001b[1;33m.\u001b[0m\u001b[0mtext\u001b[0m\u001b[1;33m\u001b[0m\u001b[1;33m\u001b[0m\u001b[0m\n\u001b[0;32m     17\u001b[0m \u001b[1;33m\u001b[0m\u001b[0m\n",
      "\u001b[1;31mIndexError\u001b[0m: list index out of range"
     ]
    }
   ],
   "source": [
    "def stockInfo(url):\n",
    "    r = requests.get(url)\n",
    "    page_body = r.text\n",
    "    soup = BeautifulSoup(page_body, 'html.parser')\n",
    "    \n",
    "    stock_wrappers = soup.find_all('div', class_=wrapper)\n",
    "    \n",
    "    # print('Total number of items: {0}'.format(len(stock_wrappers)))\n",
    "    \n",
    "    stocks = []\n",
    "    for s in stock_wrappers:\n",
    "        stock = s.find('a', class_=class_name)\n",
    "\n",
    "        name = stock.text\n",
    "        price = s.find('div', class_=class_price).text\n",
    "        url_stock = nordnet_url + s.find('a', class_=link_url)['href'] + '?details'\n",
    "        print(url_stock)\n",
    "        dividend, eps = numbersForStock(url_stock)\n",
    "\n",
    "        stocks.append({'name': name, \n",
    "                       'price': toFloat(price),\n",
    "                       'url': url_stock,\n",
    "                       'eps': eps,\n",
    "                       'dividend': dividend\n",
    "                      })\n",
    "    return stocks\n",
    "    \n",
    "stocks = stockInfo(url) + stockInfo(url2) + stockInfo(url3) + stockInfo(url4)\n",
    "    \n",
    "stock_info = pd.DataFrame.from_dict(stocks)\n",
    "stock_info = stock_info.set_index('name')\n",
    "\n",
    "#stock_info.sort_values(by=['price'], ascending=False)\n",
    "stock_info.head()\n"
   ]
  },
  {
   "cell_type": "code",
   "execution_count": 8,
   "id": "98a66ce4",
   "metadata": {},
   "outputs": [],
   "source": [
    "url = 'https://newsweb.oslobors.no/search?category=1102'\n",
    "def insideTrade():\n",
    "    r = requests.get(url)\n",
    "    page_body = r.text\n",
    "    soup = BeautifulSoup(page_body, 'html.parser')\n",
    "    \n",
    "    stock_wrappers = soup.find_all('div', class_=wrapper)\n",
    "    \n",
    "    \n",
    "    return 0"
   ]
  },
  {
   "cell_type": "markdown",
   "id": "4cbb0133",
   "metadata": {},
   "source": [
    "# Informasjon\n",
    "\n",
    "* navn\n",
    "* pris\n",
    "* eps\n",
    "* p/e\n",
    "* dividend\n",
    "* dividend-% (direkte avkastning)\n",
    "* end date\n",
    "* latest innside trade\n",
    "* stock price inside trade "
   ]
  },
  {
   "cell_type": "code",
   "execution_count": null,
   "id": "7a938f9c",
   "metadata": {},
   "outputs": [],
   "source": []
  }
 ],
 "metadata": {
  "kernelspec": {
   "display_name": "Python 3 (ipykernel)",
   "language": "python",
   "name": "python3"
  },
  "language_info": {
   "codemirror_mode": {
    "name": "ipython",
    "version": 3
   },
   "file_extension": ".py",
   "mimetype": "text/x-python",
   "name": "python",
   "nbconvert_exporter": "python",
   "pygments_lexer": "ipython3",
   "version": "3.8.6"
  }
 },
 "nbformat": 4,
 "nbformat_minor": 5
}
