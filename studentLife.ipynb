{
 "cells": [
  {
   "cell_type": "code",
   "execution_count": 3,
   "id": "9e723c75",
   "metadata": {},
   "outputs": [],
   "source": [
    "import pandas as pd\n"
   ]
  },
  {
   "cell_type": "code",
   "execution_count": 13,
   "id": "bd1329d8",
   "metadata": {},
   "outputs": [
    {
     "data": {
      "text/plain": [
       "count       11.00\n",
       "mean     11717.00\n",
       "std       5858.50\n",
       "min       8787.74\n",
       "25%       8787.74\n",
       "50%       8787.74\n",
       "75%      10252.39\n",
       "max      23434.00\n",
       "Name: Amount, dtype: float64"
      ]
     },
     "execution_count": 13,
     "metadata": {},
     "output_type": "execute_result"
    }
   ],
   "source": [
    "money = {'Month': ['August', 'September', 'Oktober', 'November', 'Desember', 'Januar', 'Februar', 'Mars', 'April', 'Mai', 'Juni'],\n",
    "        'Amount': [23434, 8787.74, 8787.74, 8787.74, 8787.78, 23434, 8787.74, 8787.74, 8787.74, 8787.78, 11717]}\n",
    "\n",
    "df = pd.DataFrame(money)\n",
    "df.set_index('Month')\n",
    " \n",
    "# Print the output.\n",
    "df['Amount'].describe()"
   ]
  }
 ],
 "metadata": {
  "kernelspec": {
   "display_name": "Python 3 (ipykernel)",
   "language": "python",
   "name": "python3"
  },
  "language_info": {
   "codemirror_mode": {
    "name": "ipython",
    "version": 3
   },
   "file_extension": ".py",
   "mimetype": "text/x-python",
   "name": "python",
   "nbconvert_exporter": "python",
   "pygments_lexer": "ipython3",
   "version": "3.8.6"
  }
 },
 "nbformat": 4,
 "nbformat_minor": 5
}
