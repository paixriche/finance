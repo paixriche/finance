{
 "cells": [
  {
   "cell_type": "markdown",
   "id": "26fc92aa",
   "metadata": {},
   "source": [
    "# Norwegian Income Tax"
   ]
  },
  {
   "cell_type": "code",
   "execution_count": 3,
   "id": "369f093c",
   "metadata": {},
   "outputs": [],
   "source": [
    "import pandas as pd\n",
    "import numpy as np"
   ]
  },
  {
   "cell_type": "code",
   "execution_count": 78,
   "id": "405722ab",
   "metadata": {},
   "outputs": [],
   "source": [
    "def general_income_pct_cut(salary, lives_in_troms_and_finmark=False):\n",
    "    if lives_in_troms_and_finmark:\n",
    "        return 0.185\n",
    "    else:\n",
    "        return 0.22"
   ]
  },
  {
   "cell_type": "code",
   "execution_count": 21,
   "id": "8f4824e3",
   "metadata": {},
   "outputs": [
    {
     "data": {
      "text/html": [
       "<div>\n",
       "<style scoped>\n",
       "    .dataframe tbody tr th:only-of-type {\n",
       "        vertical-align: middle;\n",
       "    }\n",
       "\n",
       "    .dataframe tbody tr th {\n",
       "        vertical-align: top;\n",
       "    }\n",
       "\n",
       "    .dataframe thead th {\n",
       "        text-align: right;\n",
       "    }\n",
       "</style>\n",
       "<table border=\"1\" class=\"dataframe\">\n",
       "  <thead>\n",
       "    <tr style=\"text-align: right;\">\n",
       "      <th></th>\n",
       "      <th>Salaray from</th>\n",
       "      <th>Percentage</th>\n",
       "    </tr>\n",
       "  </thead>\n",
       "  <tbody>\n",
       "    <tr>\n",
       "      <th>0</th>\n",
       "      <td>0.0</td>\n",
       "      <td>0.0000</td>\n",
       "    </tr>\n",
       "    <tr>\n",
       "      <th>1</th>\n",
       "      <td>190350.0</td>\n",
       "      <td>0.0170</td>\n",
       "    </tr>\n",
       "    <tr>\n",
       "      <th>2</th>\n",
       "      <td>267900.0</td>\n",
       "      <td>0.0400</td>\n",
       "    </tr>\n",
       "    <tr>\n",
       "      <th>3</th>\n",
       "      <td>643800.0</td>\n",
       "      <td>0.0134</td>\n",
       "    </tr>\n",
       "    <tr>\n",
       "      <th>4</th>\n",
       "      <td>969200.0</td>\n",
       "      <td>0.1640</td>\n",
       "    </tr>\n",
       "    <tr>\n",
       "      <th>5</th>\n",
       "      <td>2000000.0</td>\n",
       "      <td>0.1740</td>\n",
       "    </tr>\n",
       "  </tbody>\n",
       "</table>\n",
       "</div>"
      ],
      "text/plain": [
       "   Salaray from  Percentage\n",
       "0           0.0      0.0000\n",
       "1      190350.0      0.0170\n",
       "2      267900.0      0.0400\n",
       "3      643800.0      0.0134\n",
       "4      969200.0      0.1640\n",
       "5     2000000.0      0.1740"
      ]
     },
     "execution_count": 21,
     "metadata": {},
     "output_type": "execute_result"
    }
   ],
   "source": [
    "df_bracket_tax = pd.DataFrame(np.array([\n",
    "    [0, 0],\n",
    "    [190350, 0.017],\n",
    "    [267900, 0.04],\n",
    "    [643800, 0.0134],\n",
    "    [969200, 0.164],\n",
    "    [2000000, 0.174]]),\n",
    "    columns=['Salaray from', 'Percentage'])\n",
    "\n",
    "df_bracket_tax"
   ]
  },
  {
   "cell_type": "code",
   "execution_count": 69,
   "id": "c548477d",
   "metadata": {},
   "outputs": [],
   "source": [
    "def pct_cut_by_index(i, df_bracket_tax):\n",
    "    return df_bracket_tax.iloc[i, 0], df_bracket_tax.iloc[i, 1]\n",
    "\n",
    "# returnerer totalte prosenteten som vil blir trukket fra din lønn ved trinnskatt\n",
    "def bracket_tax_pct_cut(salary, df_bracket_tax):\n",
    "    rest = salary\n",
    "    government = 0\n",
    "    for i in reversed(range(len(df_bracket_tax))):\n",
    "        bound, pct = pct_cut_by_index(i, df_bracket_tax)\n",
    "        if rest >= bound:\n",
    "            government += (rest-bound)*pct\n",
    "            rest = bound\n",
    "\n",
    "    return government/salary"
   ]
  },
  {
   "cell_type": "code",
   "execution_count": 88,
   "id": "3887abfc",
   "metadata": {},
   "outputs": [],
   "source": [
    "def social_security_tax_salary(salary):\n",
    "    return 0.08"
   ]
  },
  {
   "cell_type": "code",
   "execution_count": 89,
   "id": "0d61ac90",
   "metadata": {},
   "outputs": [],
   "source": [
    "def overall_tax_pct(salary, lives_in_troms_and_finmark=False):\n",
    "    tax = general_income_pct_cut(salary, lives_in_troms_and_finmark)+bracket_tax_pct_cut(salary, df_bracket_tax)+social_security_tax_salary(salary)\n",
    "    rest = 1-tax\n",
    "    return rest, tax"
   ]
  },
  {
   "cell_type": "code",
   "execution_count": 90,
   "id": "8fd366d0",
   "metadata": {},
   "outputs": [],
   "source": [
    "def overall_tax_value(salary, lives_in_troms_and_finmark=False):\n",
    "    rest, tax = overall_tax_pct(salary, lives_in_troms_and_finmark)\n",
    "    return rest*salary, tax*salary"
   ]
  },
  {
   "cell_type": "code",
   "execution_count": 91,
   "metadata": {},
   "outputs": [
    {
     "name": "stdout",
     "output_type": "stream",
     "text": [
      "(0.5892936360000001, 0.410706364)\n",
      "2500000 in salary, left for you is (1473234.09, 1026765.91)\n"
     ]
    }
   ],
   "source": [
    "salary = 2500000\n",
    "\n",
    "print(overall_tax_pct(salary))\n",
    "print(\"{} in salary, left for you is {}\".format(salary, overall_tax_value(salary)))"
   ]
  },
  {
   "cell_type": "code",
   "execution_count": null,
   "metadata": {},
   "outputs": [],
   "source": []
  }
 ],
 "metadata": {
  "kernelspec": {
   "display_name": "Python 3.9.12",
   "language": "python",
   "name": "python3"
  },
  "language_info": {
   "codemirror_mode": {
    "name": "ipython",
    "version": 3
   },
   "file_extension": ".py",
   "mimetype": "text/x-python",
   "name": "python",
   "nbconvert_exporter": "python",
   "pygments_lexer": "ipython3",
   "version": "3.9.12"
  },
  "vscode": {
   "interpreter": {
    "hash": "bbbed1959eb6f34f06601585b31d81a715edc2e5f56d14cff5bbf165713278e2"
   }
  }
 },
 "nbformat": 4,
 "nbformat_minor": 5
}
