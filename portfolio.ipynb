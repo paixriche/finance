{
 "cells": [
  {
   "cell_type": "code",
   "execution_count": 2,
   "id": "33142bfd",
   "metadata": {},
   "outputs": [],
   "source": [
    "import yfinance as yf\n",
    "import matplotlib.pyplot as plt\n",
    "import pandas as pd\n",
    "import plotly.express as px\n",
    "import plotly.graph_objects as go"
   ]
  },
  {
   "cell_type": "code",
   "execution_count": 5,
   "id": "68c85754",
   "metadata": {},
   "outputs": [],
   "source": [
    "# df_cash_flow = pd.read_csv(\"data/transactions-and-notes-export.csv\")\n",
    "# df_cash_flow.head()"
   ]
  },
  {
   "cell_type": "code",
   "execution_count": 8,
   "id": "a74e5236",
   "metadata": {},
   "outputs": [],
   "source": [
    "nor_portfolio_companies_ticker = ['KAHOT.OL', 'ORK.OL']\n",
    "# 'AUTOSTORE.OL', 'KAHOT.OL', 'ITERA.OL', 'AZT.OL', 'ORK.OL', 'SATS.OL', 'AKER.OL'\n",
    "# 'NORDIC SEMI.OL', 'TIETOEVRY.OL', 'AIRTHINGS.OL', 'HOFSETH BIOCARE.OL'"
   ]
  },
  {
   "cell_type": "code",
   "execution_count": 9,
   "id": "e569449b",
   "metadata": {},
   "outputs": [],
   "source": [
    "kahoot = yf.Ticker(nor_portfolio_companies_ticker[1])\n",
    "# kahoot.info"
   ]
  },
  {
   "cell_type": "code",
   "execution_count": 11,
   "metadata": {},
   "outputs": [],
   "source": [
    "# df_kahoot[['Close']].iloc[0]"
   ]
  },
  {
   "cell_type": "code",
   "execution_count": 13,
   "id": "c24e68c2",
   "metadata": {},
   "outputs": [],
   "source": [
    "def pct_change_from_start(df):\n",
    "    return df.apply(lambda x: (x/(x.iloc[0])-1)*100)"
   ]
  },
  {
   "cell_type": "code",
   "execution_count": 14,
   "id": "7fabcf8f",
   "metadata": {},
   "outputs": [],
   "source": [
    "df_kahoot = yf.Ticker(nor_portfolio_companies_ticker[0]).history(period=\"ytd\")\n",
    "df_orkla = yf.Ticker(nor_portfolio_companies_ticker[1]).history(period=\"ytd\")\n",
    "\n",
    "#df_portfolio = pd.DataFrame(df_kahoot['Close'])\n",
    "#df_portfolio.head()"
   ]
  },
  {
   "cell_type": "code",
   "execution_count": 15,
   "id": "768e8399",
   "metadata": {},
   "outputs": [
    {
     "data": {
      "text/plain": [
       "<AxesSubplot:ylabel='Frequency'>"
      ]
     },
     "execution_count": 15,
     "metadata": {},
     "output_type": "execute_result"
    },
    {
     "data": {
      "image/png": "[encoded data removed]",
      "text/plain": [
       "<Figure size 432x288 with 1 Axes>"
      ]
     },
     "metadata": {
      "needs_background": "light"
     },
     "output_type": "display_data"
    }
   ],
   "source": [
    "df_kahoot['Close'].pct_change().plot.hist(bins=50)"
   ]
  },
  {
   "cell_type": "code",
   "execution_count": 17,
   "id": "7fabcf8f",
   "metadata": {},
   "outputs": [
    {
     "ename": "SyntaxError",
     "evalue": "cannot assign to function call (3385437938.py, line 3)",
     "output_type": "error",
     "traceback": [
      "\u001b[1;36m  Input \u001b[1;32mIn [17]\u001b[1;36m\u001b[0m\n\u001b[1;33m    pd.merge(df_portfolio, pct_change_from_start(yf.Ticker(nor_portfolio_companies_ticker[i]).history(period=\"ytd\")[['Close']])), left_index=True, right_index=True)\u001b[0m\n\u001b[1;37m    ^\u001b[0m\n\u001b[1;31mSyntaxError\u001b[0m\u001b[1;31m:\u001b[0m cannot assign to function call\n"
     ]
    }
   ],
   "source": [
    "df_portfolio = pct_change_from_start(yf.Ticker(nor_portfolio_companies_ticker[0]).history(period=\"ytd\")[['Close']])\n",
    "for i in range(1, len(nor_portfolio_companies_ticker)):\n",
    "    pd.merge(df_portfolio, pct_change_from_start(yf.Ticker(nor_portfolio_companies_ticker[i]).history(period=\"ytd\")[['Close']])), left_index=True, right_index=True)\n",
    "\n",
    "\n",
    "# df_kahoot = yf.Ticker(companiesInPortfolioTicker[0]+'.OL').history(period=\"ytd\")\n",
    "# df_napatech = yf.Ticker(companiesInPortfolioTicker[1]+'.OL').history(period=\"ytd\")\n",
    "# df_orkla = yf.Ticker(companiesInPortfolioTicker[2]+'.OL').history(period=\"ytd\")\n",
    "\n",
    "#df_portfolio = pd.DataFrame(df_kahoot['Close'])\n",
    "df_portfolio.head()"
   ]
  },
  {
   "cell_type": "code",
   "execution_count": 22,
   "id": "5bf133a5",
   "metadata": {},
   "outputs": [
    {
     "data": {
      "text/html": [
       "<div>\n",
       "<style scoped>\n",
       "    .dataframe tbody tr th:only-of-type {\n",
       "        vertical-align: middle;\n",
       "    }\n",
       "\n",
       "    .dataframe tbody tr th {\n",
       "        vertical-align: top;\n",
       "    }\n",
       "\n",
       "    .dataframe thead th {\n",
       "        text-align: right;\n",
       "    }\n",
       "</style>\n",
       "<table border=\"1\" class=\"dataframe\">\n",
       "  <thead>\n",
       "    <tr style=\"text-align: right;\">\n",
       "      <th></th>\n",
       "      <th>Kahoot</th>\n",
       "      <th>Orkla</th>\n",
       "    </tr>\n",
       "    <tr>\n",
       "      <th>Date</th>\n",
       "      <th></th>\n",
       "      <th></th>\n",
       "    </tr>\n",
       "  </thead>\n",
       "  <tbody>\n",
       "    <tr>\n",
       "      <th>2022-01-03</th>\n",
       "      <td>50.400002</td>\n",
       "      <td>83.462502</td>\n",
       "    </tr>\n",
       "    <tr>\n",
       "      <th>2022-01-04</th>\n",
       "      <td>46.599998</td>\n",
       "      <td>84.615028</td>\n",
       "    </tr>\n",
       "    <tr>\n",
       "      <th>2022-01-05</th>\n",
       "      <td>48.000000</td>\n",
       "      <td>84.038765</td>\n",
       "    </tr>\n",
       "    <tr>\n",
       "      <th>2022-01-06</th>\n",
       "      <td>45.000000</td>\n",
       "      <td>83.769844</td>\n",
       "    </tr>\n",
       "    <tr>\n",
       "      <th>2022-01-07</th>\n",
       "      <td>44.480000</td>\n",
       "      <td>83.039902</td>\n",
       "    </tr>\n",
       "    <tr>\n",
       "      <th>...</th>\n",
       "      <td>...</td>\n",
       "      <td>...</td>\n",
       "    </tr>\n",
       "    <tr>\n",
       "      <th>2022-07-13</th>\n",
       "      <td>18.570000</td>\n",
       "      <td>82.019997</td>\n",
       "    </tr>\n",
       "    <tr>\n",
       "      <th>2022-07-14</th>\n",
       "      <td>18.485001</td>\n",
       "      <td>81.080002</td>\n",
       "    </tr>\n",
       "    <tr>\n",
       "      <th>2022-07-15</th>\n",
       "      <td>18.480000</td>\n",
       "      <td>81.459999</td>\n",
       "    </tr>\n",
       "    <tr>\n",
       "      <th>2022-07-18</th>\n",
       "      <td>19.545000</td>\n",
       "      <td>82.580002</td>\n",
       "    </tr>\n",
       "    <tr>\n",
       "      <th>2022-07-19</th>\n",
       "      <td>19.275000</td>\n",
       "      <td>82.639999</td>\n",
       "    </tr>\n",
       "  </tbody>\n",
       "</table>\n",
       "<p>136 rows × 2 columns</p>\n",
       "</div>"
      ],
      "text/plain": [
       "               Kahoot      Orkla\n",
       "Date                            \n",
       "2022-01-03  50.400002  83.462502\n",
       "2022-01-04  46.599998  84.615028\n",
       "2022-01-05  48.000000  84.038765\n",
       "2022-01-06  45.000000  83.769844\n",
       "2022-01-07  44.480000  83.039902\n",
       "...               ...        ...\n",
       "2022-07-13  18.570000  82.019997\n",
       "2022-07-14  18.485001  81.080002\n",
       "2022-07-15  18.480000  81.459999\n",
       "2022-07-18  19.545000  82.580002\n",
       "2022-07-19  19.275000  82.639999\n",
       "\n",
       "[136 rows x 2 columns]"
      ]
     },
     "execution_count": 22,
     "metadata": {},
     "output_type": "execute_result"
    }
   ],
   "source": [
    "df_portfolio = pd.merge(df_kahoot[['Close']], df_orkla[['Close']], left_index=True, right_index=True)\n",
    "df_portfolio.columns = ['Kahoot', 'Orkla']\n",
    "df_portfolio"
   ]
  },
  {
   "cell_type": "code",
   "execution_count": null,
   "id": "d4c7351d",
   "metadata": {},
   "outputs": [],
   "source": []
  },
  {
   "cell_type": "code",
   "execution_count": null,
   "id": "79b2eafb",
   "metadata": {
    "scrolled": true
   },
   "outputs": [
    {
     "data": {
      "image/png": "[encoded data removed]",
      "text/plain": [
       "<Figure size 432x288 with 1 Axes>"
      ]
     },
     "metadata": {
      "needs_background": "light"
     },
     "output_type": "display_data"
    }
   ],
   "source": [
    "plt.plot(pct_change_from_start(df_kahoot[['Close']]), label='Kahoot!')\n",
    "plt.plot(pct_change_from_start(df_orkla[['Close']]), label='Orkla')\n",
    "plt.title('Stocks')\n",
    "plt.xlabel('Time')\n",
    "plt.ylabel('Perecentage change')\n",
    "plt.show()"
   ]
  },
  {
   "cell_type": "code",
   "execution_count": null,
   "id": "f071830a",
   "metadata": {},
   "outputs": [],
   "source": [
    "fig = go.Figure()\n",
    "\n",
    "n = df_spot_pred_weekly_avg.shape[1]\n",
    "for i in range(n):\n",
    "    fig.add_trace(go.Scatter(x=df_spot_pred_weekly_avg.index, y=df_spot_pred_weekly_avg.iloc[:, i], name=list(df_spot_pred_weekly_avg.iloc[:, [i]].columns.values)[0], line_color=\"#777\"))\n",
    "\n",
    "fig.add_trace(go.Scatter(x=df_actual_spot_price_weekly_avg.index, y=df_actual_spot_price_weekly_avg.iloc[:, 0], name=\"SPOTNO3\", line_color=\"blue\"))\n",
    "fig.add_trace(go.Scatter(x=df_mc_commodities.index, y=df_mc_commodities.iloc[:, 0], name=\"MC Coal API2 €\", line_color=\"lightblue\"))\n",
    "fig.add_trace(go.Scatter(x=df_mc_commodities.index, y=df_mc_commodities.iloc[:, 1], name=\"MC gas €\", line_color=\"pink\"))\n",
    "\n",
    "fig.update_layout(\n",
    "    title=\"All predictions from EMPS and Actual Spot Price\",\n",
    "    xaxis_title=\"Date\",\n",
    "    yaxis_title=\"Amount in Euro (€)\",\n",
    "    legend_title=\"Year of origin\"\n",
    ")\n",
    "\n",
    "fig.show()"
   ]
  },
  {
   "cell_type": "code",
   "execution_count": null,
   "id": "49f8eb1c",
   "metadata": {},
   "outputs": [],
   "source": [
    "df_merged = pd.merge(df_actual_spot_price_weekly_avg, df_mc_commodities, left_index=True, right_index=True)\n",
    "\n",
    "fig = px.line(df_merged, y=df_merged.columns)\n",
    "fig.update_layout(\n",
    "        title=\"Weekly Average of Spot and Marginal Thermal Prices\",\n",
    "        xaxis_title=\"Date\",\n",
    "        yaxis_title=\"Amount in Euro (€)\",\n",
    "        legend_title=\"Description\"\n",
    "    )\n",
    "fig.show()"
   ]
  },
  {
   "cell_type": "code",
   "execution_count": null,
   "id": "43378c18",
   "metadata": {},
   "outputs": [],
   "source": [
    "def buy_stock(ticker, price, n_shares, date):\n",
    "    print(\"tbc\")\n",
    "\n",
    "def sell_stock(ticker, price, n_shares, date):\n",
    "    print(\"tbc\")"
   ]
  },
  {
   "cell_type": "code",
   "execution_count": null,
   "id": "9e181cfd",
   "metadata": {},
   "outputs": [],
   "source": []
  }
 ],
 "metadata": {
  "kernelspec": {
   "display_name": "Python 3.9.12",
   "language": "python",
   "name": "python3"
  },
  "language_info": {
   "codemirror_mode": {
    "name": "ipython",
    "version": 3
   },
   "file_extension": ".py",
   "mimetype": "text/x-python",
   "name": "python",
   "nbconvert_exporter": "python",
   "pygments_lexer": "ipython3",
   "version": "3.9.12"
  },
  "vscode": {
   "interpreter": {
    "hash": "bbbed1959eb6f34f06601585b31d81a715edc2e5f56d14cff5bbf165713278e2"
   }
  }
 },
 "nbformat": 4,
 "nbformat_minor": 5
}
